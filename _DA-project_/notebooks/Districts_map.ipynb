{
 "cells": [
  {
   "cell_type": "code",
   "execution_count": 19,
   "id": "69eb2067-b5b0-43a5-a0ce-5b841d181caa",
   "metadata": {},
   "outputs": [
    {
     "name": "stdout",
     "output_type": "stream",
     "text": [
      "  ID_ANNEX ANNEXDESCR ID_TEMA               TEMA_DESCR ID_CONJUNT  CONJ_DESCR  \\\n",
      "0       01   Grup - I    0104  Unitats Administratives     010412  Districtes   \n",
      "1       01   Grup - I    0104  Unitats Administratives     010412  Districtes   \n",
      "2       01   Grup - I    0104  Unitats Administratives     010412  Districtes   \n",
      "3       01   Grup - I    0104  Unitats Administratives     010412  Districtes   \n",
      "4       01   Grup - I    0104  Unitats Administratives     010412  Districtes   \n",
      "\n",
      "  ID_SUBCONJ SCONJ_DESC  ID_ELEMENT          ELEM_DESCR  ... ESTIL_ID  \\\n",
      "0   01041201  Districte  0104120101  Límit de districte  ...        0   \n",
      "1   01041201  Districte  0104120101  Límit de districte  ...        0   \n",
      "2   01041201  Districte  0104120101  Límit de districte  ...        0   \n",
      "3   01041201  Districte  0104120101  Límit de districte  ...        0   \n",
      "4   01041201  Districte  0104120101  Límit de districte  ...        0   \n",
      "\n",
      "  ESTIL_QGIS VALOR1QGIS VALOR2QGIS COL_FARCIT FCOL_DESCR FHEX_COLOR COL_DESCR  \\\n",
      "0      Sòlid          0          0          1      Negre    #000000     Negre   \n",
      "1      Sòlid          0          0          1      Negre    #000000     Negre   \n",
      "2      Sòlid          0          0          1      Negre    #000000     Negre   \n",
      "3      Sòlid          0          0          1      Negre    #000000     Negre   \n",
      "4      Sòlid          0          0          1      Negre    #000000     Negre   \n",
      "\n",
      "  HEX_COLOR7                                           geometry  \n",
      "0    #000000  POLYGON ((2.18345 41.39061, 2.18459 41.38976, ...  \n",
      "1    #000000  POLYGON ((2.1869 41.40165, 2.18689 41.40087, 2...  \n",
      "2    #000000  MULTIPOLYGON (((2.14824 41.37623, 2.14896 41.3...  \n",
      "3    #000000  POLYGON ((2.10342 41.4011, 2.10352 41.40109, 2...  \n",
      "4    #000000  MULTIPOLYGON (((2.07313 41.43522, 2.07319 41.4...  \n",
      "\n",
      "[5 rows x 47 columns]\n",
      "              District   Latitude  Longitude\n",
      "0         Ciutat Vella  41.381132   2.180728\n",
      "1             Eixample  41.391593   2.164470\n",
      "2       Sants-Montjuïc  41.349796   2.144444\n",
      "3            Les Corts  41.386933   2.118236\n",
      "4  Sarrià-Sant Gervasi  41.412597   2.106513\n",
      "5               Gràcia  41.410262   2.152224\n",
      "6       Horta-Guinardó  41.429161   2.150571\n",
      "7           Nou Barris  41.446309   2.175075\n",
      "8          Sant Andreu  41.435035   2.193309\n",
      "9           Sant Martí  41.407634   2.201037\n"
     ]
    }
   ],
   "source": [
    "import geopandas as gpd\n",
    "import pandas as pd\n",
    "\n",
    "# Path to your local GeoJSON file\n",
    "geojson_file_path = '../datasets/districtes.geojson'  # Update this with your actual file path\n",
    "\n",
    "# Read the GeoJSON file into a GeoDataFrame\n",
    "gdf = gpd.read_file(geojson_file_path)\n",
    "\n",
    "# Check the structure of your data to ensure you're using the correct column names\n",
    "# This will show the first few rows of your GeoDataFrame\n",
    "print(gdf.head())\n",
    "\n",
    "# Extract centroids for each district\n",
    "districts_centroids = []\n",
    "\n",
    "# Loop through each district and calculate the centroid (center point) of the geometry\n",
    "for idx, row in gdf.iterrows():\n",
    "    district_name = row['NOM']  # Replace 'nom' with the actual column name for district name, if it's different\n",
    "    centroid = row['geometry'].centroid  # Calculate the centroid of the district's geometry\n",
    "    latitude = centroid.y\n",
    "    longitude = centroid.x\n",
    "    districts_centroids.append({\n",
    "        'District': district_name,\n",
    "        'Latitude': latitude,\n",
    "        'Longitude': longitude\n",
    "    })\n",
    "\n",
    "# Convert the list of dictionaries to a pandas DataFrame\n",
    "centroids_df = pd.DataFrame(districts_centroids)\n",
    "\n",
    "# Display the resulting DataFrame with centroids\n",
    "print(centroids_df)"
   ]
  }
 ],
 "metadata": {
  "kernelspec": {
   "display_name": "Python 3 (ipykernel)",
   "language": "python",
   "name": "python3"
  },
  "language_info": {
   "codemirror_mode": {
    "name": "ipython",
    "version": 3
   },
   "file_extension": ".py",
   "mimetype": "text/x-python",
   "name": "python",
   "nbconvert_exporter": "python",
   "pygments_lexer": "ipython3",
   "version": "3.12.4"
  }
 },
 "nbformat": 4,
 "nbformat_minor": 5
}
